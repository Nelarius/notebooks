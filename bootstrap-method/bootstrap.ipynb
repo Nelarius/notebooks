{
 "cells": [
  {
   "attachments": {},
   "cell_type": "markdown",
   "metadata": {},
   "source": [
    "# Source\n",
    "\n",
    "[An introduction to the bootstrap method](https://towardsdatascience.com/an-introduction-to-the-bootstrap-method-58bcb51b4d60)"
   ]
  },
  {
   "attachments": {},
   "cell_type": "markdown",
   "metadata": {},
   "source": [
    "# Imports"
   ]
  },
  {
   "cell_type": "code",
   "execution_count": 1,
   "metadata": {},
   "outputs": [],
   "source": [
    "import numpy as np\n",
    "import matplotlib.pyplot as plt"
   ]
  },
  {
   "attachments": {},
   "cell_type": "markdown",
   "metadata": {},
   "source": [
    "# Scenario case\n",
    "\n",
    "Summarize how many times a day students in a 100-student lab picks up their phones. Here's one way of doing it:\n",
    "* online survey\n",
    "* you receive the response of 30 students"
   ]
  },
  {
   "cell_type": "code",
   "execution_count": 2,
   "metadata": {},
   "outputs": [
    {
     "data": {
      "text/plain": [
       "array([200, 374, 442,  78, 289, 376, 144, 275, 352, 463, 144, 271,  77,\n",
       "       235, 245, 467, 180, 457, 352, 212,  11,  65, 207, 479, 327, 282,\n",
       "        16,  51,  33, 430, 180, 140, 333, 497, 218, 263, 380, 401, 482,\n",
       "       428, 475, 344, 193,  32,  99, 247, 135, 240, 365, 468, 134,  22,\n",
       "         6, 264, 405,  80, 381, 472, 160,   1, 251,  70, 121, 168, 375,\n",
       "       481, 179, 193, 109, 296, 154,  94, 191, 464, 404,  19, 324, 125,\n",
       "       357, 101,  35, 253, 150,  18,   5,  50,  33, 241, 374,  11, 258,\n",
       "       119, 336, 305, 105, 337, 472, 350, 348, 324])"
      ]
     },
     "execution_count": 2,
     "metadata": {},
     "output_type": "execute_result"
    }
   ],
   "source": [
    "# Construct a population of pickups for the lab\n",
    "np.random.seed(1013)\n",
    "pickups = np.random.randint(0, 500, size=100)\n",
    "pickups"
   ]
  },
  {
   "cell_type": "code",
   "execution_count": 3,
   "metadata": {},
   "outputs": [
    {
     "data": {
      "text/plain": [
       "239.79"
      ]
     },
     "execution_count": 3,
     "metadata": {},
     "output_type": "execute_result"
    }
   ],
   "source": [
    "# Population mean\n",
    "pickups.mean()"
   ]
  },
  {
   "cell_type": "code",
   "execution_count": 6,
   "metadata": {},
   "outputs": [
    {
     "data": {
      "text/plain": [
       "148.2234323580452"
      ]
     },
     "execution_count": 6,
     "metadata": {},
     "output_type": "execute_result"
    }
   ],
   "source": [
    "# Population standard deviation\n",
    "pickups.std()"
   ]
  },
  {
   "cell_type": "code",
   "execution_count": 4,
   "metadata": {},
   "outputs": [
    {
     "data": {
      "text/plain": [
       "array([140, 482,  94, 374, 401, 375, 247, 324,   5, 464, 264,  65, 247,\n",
       "        33, 357, 135, 336, 467,  78, 251, 154, 235,  33, 375, 305, 468,\n",
       "       497, 282, 375,  94])"
      ]
     },
     "execution_count": 4,
     "metadata": {},
     "output_type": "execute_result"
    }
   ],
   "source": [
    "# Draw a sample from the population\n",
    "sample = np.random.choice(pickups, size=30)\n",
    "sample"
   ]
  },
  {
   "cell_type": "code",
   "execution_count": 5,
   "metadata": {},
   "outputs": [
    {
     "data": {
      "text/plain": [
       "265.23333333333335"
      ]
     },
     "execution_count": 5,
     "metadata": {},
     "output_type": "execute_result"
    }
   ],
   "source": [
    "# First sample mean\n",
    "sample_mean = sample.mean()\n",
    "sample_mean"
   ]
  },
  {
   "cell_type": "code",
   "execution_count": 7,
   "metadata": {},
   "outputs": [
    {
     "data": {
      "text/plain": [
       "151.2439644468803"
      ]
     },
     "execution_count": 7,
     "metadata": {},
     "output_type": "execute_result"
    }
   ],
   "source": [
    "# Standard deviation for the sample\n",
    "sample_std = np.std(sample, ddof=1)\n",
    "sample_std"
   ]
  },
  {
   "attachments": {},
   "cell_type": "markdown",
   "metadata": {},
   "source": [
    "An estimate of the standard error is defined using the sample standard deviation $s$:\n",
    "\n",
    "$$\\hat{s}_{\\bar{x}} \\approx \\frac{s}{\\sqrt{n}},$$\n",
    "\n",
    "where $n$ is the sample count.\n",
    "\n",
    "Compare this with the actual standard error, defined with the population's standard deviation:\n",
    "\n",
    "$$\\sigma_{\\bar{x}} = \\frac{\\sigma_{x}}{\\sqrt{n}}.$$\n",
    "\n",
    "We just replaced the population standard deviation with the sample deviation."
   ]
  },
  {
   "cell_type": "code",
   "execution_count": 8,
   "metadata": {},
   "outputs": [
    {
     "data": {
      "text/plain": [
       "27.613243671355235"
      ]
     },
     "execution_count": 8,
     "metadata": {},
     "output_type": "execute_result"
    }
   ],
   "source": [
    "# Estimated standard error\n",
    "sample_std / (30.0 ** 0.5)"
   ]
  },
  {
   "attachments": {},
   "cell_type": "markdown",
   "metadata": {},
   "source": [
    "We would like to know the true number of pickups in the lab. But we don't have census data. The best we can do is evaluate population parameters through an **estimator/statistic**.\n",
    "* **Estimator/statistic**: a rule for calculating an esitmate. Such as sample mean, denoted as $\\bar{x}$.\n",
    "* **Population parameter**: a numeric summary about a population. In this case the average number of phone pickups a day in the lab, denoted as $\\mu$.\n",
    "\n",
    "A reasonable assumption is that the true mean will lie within two standard errors (~95 %) of the sample mean."
   ]
  },
  {
   "attachments": {},
   "cell_type": "markdown",
   "metadata": {},
   "source": [
    "# Enter the bootstrapping method\n",
    "\n",
    "What if we want to provide an estimator of the mean or median of a population? We don't know the population parameters, and there is no formula for the standard error of an estimator.\n",
    "\n",
    "We can solve this problem by just drawing repeated samples and calculating an estimator over the population of estimators.\n",
    "\n",
    "Why does this work? Due to the **law of large numbers**, the estimated estimator should approach the true population parameter as the number of repetitions grows to infinity."
   ]
  },
  {
   "cell_type": "code",
   "execution_count": 11,
   "metadata": {},
   "outputs": [],
   "source": [
    "def bootstrapped_mean(pickups, num_samples, num_iterations):\n",
    "    estimators = []\n",
    "    for _ in range(num_iterations):\n",
    "        sample = np.random.choice(pickups, size=num_samples)\n",
    "        estimators.append(sample.mean())\n",
    "    simulated_mean = np.mean(estimators)\n",
    "    simulated_std = np.std(estimators)\n",
    "\n",
    "    return (simulated_mean, simulated_std)"
   ]
  },
  {
   "attachments": {},
   "cell_type": "markdown",
   "metadata": {},
   "source": [
    "Reminder. The population parameters was\n",
    "\n",
    "$$\\mu = 239.79$$"
   ]
  },
  {
   "cell_type": "code",
   "execution_count": 13,
   "metadata": {},
   "outputs": [
    {
     "name": "stdout",
     "output_type": "stream",
     "text": [
      "235.9633333333333, 22.4623707564451\n"
     ]
    }
   ],
   "source": [
    "m, s = bootstrapped_mean(pickups, 30, 10)\n",
    "print(f\"{m}, {s}\")"
   ]
  },
  {
   "cell_type": "code",
   "execution_count": 14,
   "metadata": {},
   "outputs": [
    {
     "name": "stdout",
     "output_type": "stream",
     "text": [
      "236.188, 27.448942307086764\n"
     ]
    }
   ],
   "source": [
    "m, s = bootstrapped_mean(pickups, 30, 100)\n",
    "print(f\"{m}, {s}\")"
   ]
  },
  {
   "cell_type": "code",
   "execution_count": 19,
   "metadata": {},
   "outputs": [
    {
     "name": "stdout",
     "output_type": "stream",
     "text": [
      "m: 240.01064, se: 0.272641123153855\n"
     ]
    }
   ],
   "source": [
    "num_iterations = 10000\n",
    "m, s = bootstrapped_mean(pickups, 30, num_iterations)\n",
    "\n",
    "se = s / (num_iterations ** 0.5)\n",
    "\n",
    "print(f\"m: {m}, se: {se}\")"
   ]
  },
  {
   "attachments": {},
   "cell_type": "markdown",
   "metadata": {},
   "source": [
    "Due to the central limit theorem, plotting the sampled means results in a normal distribution:"
   ]
  },
  {
   "cell_type": "code",
   "execution_count": 20,
   "metadata": {},
   "outputs": [
    {
     "data": {
      "text/plain": [
       "(array([   7.,   65.,  527., 1606., 2926., 2774., 1565.,  461.,   65.,\n",
       "           4.]),\n",
       " array([132.66666667, 154.19333333, 175.72      , 197.24666667,\n",
       "        218.77333333, 240.3       , 261.82666667, 283.35333333,\n",
       "        304.88      , 326.40666667, 347.93333333]),\n",
       " <BarContainer object of 10 artists>)"
      ]
     },
     "execution_count": 20,
     "metadata": {},
     "output_type": "execute_result"
    },
    {
     "data": {
      "image/png": "[encoded data removed]",
      "text/plain": [
       "<Figure size 640x480 with 1 Axes>"
      ]
     },
     "metadata": {},
     "output_type": "display_data"
    }
   ],
   "source": [
    "estimators = []\n",
    "for _ in range(num_iterations):\n",
    "    sample = np.random.choice(pickups, size=30)\n",
    "    estimators.append(sample.mean())\n",
    "\n",
    "plt.hist(estimators)"
   ]
  }
 ],
 "metadata": {
  "kernelspec": {
   "display_name": "notebooks",
   "language": "python",
   "name": "python3"
  },
  "language_info": {
   "codemirror_mode": {
    "name": "ipython",
    "version": 3
   },
   "file_extension": ".py",
   "mimetype": "text/x-python",
   "name": "python",
   "nbconvert_exporter": "python",
   "pygments_lexer": "ipython3",
   "version": "3.11.1"
  },
  "orig_nbformat": 4,
  "vscode": {
   "interpreter": {
    "hash": "62027d19e6d79e9903686d19485c16746a359d75eac12f98df3f9b97aa9dfd1d"
   }
  }
 },
 "nbformat": 4,
 "nbformat_minor": 2
}

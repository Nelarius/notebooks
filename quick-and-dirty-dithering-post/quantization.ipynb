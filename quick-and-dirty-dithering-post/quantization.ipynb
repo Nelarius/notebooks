{
 "cells": [
  {
   "cell_type": "markdown",
   "metadata": {},
   "source": [
    "# Imports"
   ]
  },
  {
   "cell_type": "code",
   "execution_count": 2,
   "metadata": {},
   "outputs": [],
   "source": [
    "from IPython.display import display\n",
    "from PIL import Image"
   ]
  },
  {
   "cell_type": "markdown",
   "metadata": {},
   "source": [
    "# Load source image"
   ]
  },
  {
   "cell_type": "code",
   "execution_count": 3,
   "metadata": {},
   "outputs": [],
   "source": [
    "source = Image.open('landscape.jpg')\n",
    "source = source.convert('L')"
   ]
  },
  {
   "cell_type": "markdown",
   "metadata": {},
   "source": [
    "# Quantize to black and white"
   ]
  },
  {
   "cell_type": "code",
   "execution_count": 6,
   "metadata": {},
   "outputs": [
    {
     "data": {
      "image/png": "[encoded data removed]",
      "text/plain": [
       "<PIL.Image.Image image mode=L size=1080x1480 at 0x108D0CC70>"
      ]
     },
     "metadata": {},
     "output_type": "display_data"
    }
   ],
   "source": [
    "from itertools import product\n",
    "\n",
    "def luma_srgb_to_linear(l):\n",
    "    \"\"\"l: a single luma value in srgb space.\"\"\"\n",
    "\n",
    "    # Converting the source image from sRGB to linear space\n",
    "    # https://entropymine.com/imageworsener/srgbformula/\n",
    "    s = l / 255\n",
    "    if s < 0.04045:\n",
    "        return int(255 * s / 12.92)\n",
    "    else:\n",
    "        return int(255 * ((s + 0.055) / 1.055) ** 2.4)\n",
    "\n",
    "quantized = Image.new('L', source.size)\n",
    "\n",
    "for coord in product(range(source.size[0]), range(source.size[1])):\n",
    "    l = luma_srgb_to_linear(source.getpixel(coord))\n",
    "\n",
    "    # Quantize the image\n",
    "    if l < 128:\n",
    "        quantized.putpixel(coord, 0)\n",
    "    else:\n",
    "        quantized.putpixel(coord, 255)\n",
    "\n",
    "display(quantized)"
   ]
  }
 ],
 "metadata": {
  "interpreter": {
   "hash": "6103e421ff95083d7f14690e93155bf68a10c66aa7cf27ca1214ac2449a39461"
  },
  "kernelspec": {
   "display_name": "Python 3.9.9 64-bit ('venv': venv)",
   "language": "python",
   "name": "python3"
  },
  "language_info": {
   "codemirror_mode": {
    "name": "ipython",
    "version": 3
   },
   "file_extension": ".py",
   "mimetype": "text/x-python",
   "name": "python",
   "nbconvert_exporter": "python",
   "pygments_lexer": "ipython3",
   "version": "3.9.9"
  },
  "orig_nbformat": 4
 },
 "nbformat": 4,
 "nbformat_minor": 2
}

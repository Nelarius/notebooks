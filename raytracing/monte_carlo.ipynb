{
 "cells": [
  {
   "cell_type": "markdown",
   "metadata": {},
   "source": [
    "# Monte Carlo estimator\n",
    "\n",
    "The _Monte Carlo_ estimator of an integral, $\\int_{a}^{b} f(x) dx$, is defined as\n",
    "\n",
    "$$\n",
    "F_n = \\frac{b-a}{n} \\sum_{i=1}^{n} f(X_i),\n",
    "$$\n",
    "\n",
    "for random variable $X_i$ drawn uniformly out of the range $[a,\\, b]$.\n",
    "\n",
    "A Monte Carlo estimator can also be defined for non-uniform random variables:\n",
    "\n",
    "$$\n",
    "F_n = \\frac{1}{n} \\sum_{i=1}^{n} \\frac{f(X_i)}{p(X_i)},\n",
    "$$\n",
    "\n",
    "for random variable $X_i$ drawn from the PDF $p(x)$."
   ]
  },
  {
   "cell_type": "markdown",
   "metadata": {},
   "source": [
    "# Example\n",
    "\n",
    "Let's do the math, using the example mentioned in _Physically Based Rendering_ book.\n",
    "\n",
    "$$\n",
    "f(x) = \\exp(-1000 (x - 0.25)^2),\n",
    "$$\n",
    "\n",
    "and we want to calculate\n",
    "\n",
    "$$\n",
    "\\int_0^{0.5} \\exp(-1000 (x - 0.25)^2) dx.\n",
    "$$\n",
    "\n",
    "Wolfram Alpha gives `0.0560499` as the value for the integral."
   ]
  },
  {
   "cell_type": "code",
   "execution_count": null,
   "metadata": {},
   "outputs": [],
   "source": [
    "import matplotlib.pyplot as plt\n",
    "import numpy as np"
   ]
  },
  {
   "cell_type": "code",
   "execution_count": null,
   "metadata": {},
   "outputs": [],
   "source": [
    "x = np.linspace(0.0, 0.5, 1000)\n",
    "y = np.exp(-1000.0 * (x - 0.25)**2)\n",
    "expected_value = 0.0560499"
   ]
  },
  {
   "cell_type": "code",
   "execution_count": null,
   "metadata": {},
   "outputs": [],
   "source": [
    "plt.plot(x, y)"
   ]
  },
  {
   "cell_type": "markdown",
   "metadata": {},
   "source": [
    "$f$ is very close to zero in over half of the domain. We can sample `y` uniformly and obtain a result using the first MC estimator, but it will require lots of samples."
   ]
  },
  {
   "cell_type": "code",
   "execution_count": null,
   "metadata": {},
   "outputs": [],
   "source": [
    "\n",
    "samples = np.random.choice(y, size=100)\n",
    "f_100 = (0.5 - 0.0) * (1.0 / 100.0) * np.sum(samples)\n",
    "f_100"
   ]
  },
  {
   "cell_type": "code",
   "execution_count": null,
   "metadata": {},
   "outputs": [],
   "source": [
    "samples = np.random.choice(y, size=100000)\n",
    "f_100000 = (0.5 - 0.0) * (1.0 / 100000.0) * np.sum(samples)\n",
    "f_100000"
   ]
  },
  {
   "cell_type": "code",
   "execution_count": null,
   "metadata": {},
   "outputs": [],
   "source": [
    "estimates = []\n",
    "\n",
    "for i in range(1000):\n",
    "    samples = np.random.choice(y, size=1)\n",
    "    f_1 = (0.5 - 0.0) * (1.0 / 1.0) * np.sum(samples)\n",
    "    estimates.append(f_1)\n",
    "\n",
    "mse = np.mean((np.array(estimates) - expected_value)**2)\n",
    "mse"
   ]
  }
 ],
 "metadata": {
  "kernelspec": {
   "display_name": "notebooks",
   "language": "python",
   "name": "python3"
  },
  "language_info": {
   "codemirror_mode": {
    "name": "ipython",
    "version": 3
   },
   "file_extension": ".py",
   "mimetype": "text/x-python",
   "name": "python",
   "nbconvert_exporter": "python",
   "pygments_lexer": "ipython3",
   "version": "3.11.1"
  }
 },
 "nbformat": 4,
 "nbformat_minor": 2
}

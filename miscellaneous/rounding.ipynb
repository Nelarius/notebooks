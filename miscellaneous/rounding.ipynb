{
 "cells": [
  {
   "cell_type": "markdown",
   "metadata": {},
   "source": [
    "## Problem\n",
    "\n",
    "Round floating points to integers in such a way, that their sum is preserved.\n",
    "\n",
    "## Solution\n",
    "\n",
    "This [stackoverflow](https://stackoverflow.com/a/792476) answer was copy-pasted into chat GPT with the prompt.\n",
    "> Give my a python implementation of this stackoverflow answer.\n",
    "\n",
    "Stackoverflow generated the function `cascade_round`. And it actually works 🤯"
   ]
  },
  {
   "cell_type": "code",
   "execution_count": 2,
   "metadata": {},
   "outputs": [],
   "source": [
    "import numpy as np"
   ]
  },
  {
   "cell_type": "code",
   "execution_count": 3,
   "metadata": {},
   "outputs": [],
   "source": [
    "def cascade_round(numbers):\n",
    "    running_total = 0.0\n",
    "    integer_running_total = 0\n",
    "\n",
    "    result = []\n",
    "\n",
    "    for number in numbers:\n",
    "        running_total += number\n",
    "        rounded_total = round(running_total)\n",
    "        integer_part = rounded_total - integer_running_total\n",
    "\n",
    "        result.append(integer_part)\n",
    "\n",
    "        integer_running_total += integer_part\n",
    "\n",
    "    return result"
   ]
  },
  {
   "cell_type": "code",
   "execution_count": 159,
   "metadata": {},
   "outputs": [
    {
     "name": "stdout",
     "output_type": "stream",
     "text": [
      "naive sum: 98.0\n",
      "cascade_round: 100\n"
     ]
    },
    {
     "data": {
      "text/plain": [
       "[3, 7, 2, 0, 9, 2, 6, 2, 5, 4, 3, 3, 8, 8, 10, 8, 6, 2, 6, 6]"
      ]
     },
     "execution_count": 159,
     "metadata": {},
     "output_type": "execute_result"
    }
   ],
   "source": [
    "# generate 8 random numbers that sum up to 100\n",
    "numbers = np.random.rand(20)\n",
    "numbers /= numbers.sum()\n",
    "numbers *= 100\n",
    "\n",
    "print(f\"naive sum: {np.sum(np.round(numbers))}\")\n",
    "\n",
    "rounded_integers = cascade_round(numbers)\n",
    "print(f\"cascade_round: {np.sum(rounded_integers)}\")\n",
    "\n",
    "rounded_integers"
   ]
  }
 ],
 "metadata": {
  "kernelspec": {
   "display_name": "notebooks",
   "language": "python",
   "name": "python3"
  },
  "language_info": {
   "codemirror_mode": {
    "name": "ipython",
    "version": 3
   },
   "file_extension": ".py",
   "mimetype": "text/x-python",
   "name": "python",
   "nbconvert_exporter": "python",
   "pygments_lexer": "ipython3",
   "version": "3.11.1"
  }
 },
 "nbformat": 4,
 "nbformat_minor": 2
}

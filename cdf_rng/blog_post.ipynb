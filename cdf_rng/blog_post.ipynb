{
 "cells": [
  {
   "attachments": {},
   "cell_type": "markdown",
   "metadata": {},
   "source": [
    "In [inverse transform sampling](https://en.wikipedia.org/wiki/Inverse_transform_sampling), we use the inverse cumulative distribution function (CDF) to generate random numbers in a given distribution. But why does this work?\n",
    "\n",
    "This post takes a look at a couple different approaches to understand this. Experimentally, we can see that the distribution of the CDF over the sample values is uniform. And this fact is why inverse transform sampling works."
   ]
  },
  {
   "attachments": {},
   "cell_type": "markdown",
   "metadata": {},
   "source": [
    "# Definitions\n",
    "\n",
    "Let's start with some of the definitions we will use. We want to generate random numbers according to a given *probability density function* (PDF) $f(x)$. The probability density function $f(x)$ and the *cumulative distribution function* $F(x)$ are related to each other by an integral:\n",
    "\n",
    "$$\n",
    "F(x) = \\int f(x) dx\n",
    "$$\n",
    "\n",
    "Let's start with a simple experimental observation of normally distributed random numbers.\n",
    "\n",
    "Let's start with a simple density function, the uniform density function *U* in the interval $[0, 1]$. The probability density is constant everywhere in the interval:\n",
    "\n",
    "$$\n",
    "F_U(x) = \\int cdx = cx+d\n",
    "$$\n",
    "\n",
    "We can use the following two constraints, $U(0)=0$ and $U(1)=1$, to obtain\n",
    "\n",
    "$$\n",
    "F_U(x) = x.\n",
    "$$"
   ]
  },
  {
   "attachments": {},
   "cell_type": "markdown",
   "metadata": {},
   "source": [
    "# Imports"
   ]
  },
  {
   "cell_type": "code",
   "execution_count": 1,
   "metadata": {},
   "outputs": [],
   "source": [
    "import matplotlib.pyplot as plt\n",
    "import numpy as np\n",
    "import math"
   ]
  },
  {
   "attachments": {},
   "cell_type": "markdown",
   "metadata": {},
   "source": [
    "# The CDF of a sample is uniformly distributed\n",
    "\n",
    "Inverse transform sampling works, because when we plug values of random variable $X$ into its own CDF $F_X$, we obtain numbers which are uniformly distributed in $[0, 1]$. I.e., the shape of $F_X(X)$ is uniform.\n",
    "\n",
    "Let's observe the distribution we obtain from the normal distribution's CDF over normally distributed random numbers."
   ]
  },
  {
   "cell_type": "code",
   "execution_count": 2,
   "metadata": {},
   "outputs": [],
   "source": [
    "rng = np.random.default_rng()"
   ]
  },
  {
   "cell_type": "code",
   "execution_count": 14,
   "metadata": {},
   "outputs": [
    {
     "data": {
      "text/plain": [
       "(array([ 962.,  957., 1038., 1048., 1006., 1036.,  964.,  975.,  978.,\n",
       "         957., 1021., 1016., 1022.,  988., 1003., 1044., 1003.,  975.,\n",
       "        1043.,  971.,  991.,  955.,  964., 1032.,  984.,  973.,  993.,\n",
       "         981.,  962., 1008., 1058.,  990., 1047., 1012.,  983.,  902.,\n",
       "         999., 1034., 1022.,  991., 1001., 1056.,  980., 1037.,  995.,\n",
       "         998., 1041., 1004.,  984., 1016.]),\n",
       " array([3.00659557e-05, 2.00292949e-02, 4.00285238e-02, 6.00277528e-02,\n",
       "        8.00269817e-02, 1.00026211e-01, 1.20025440e-01, 1.40024668e-01,\n",
       "        1.60023897e-01, 1.80023126e-01, 2.00022355e-01, 2.20021584e-01,\n",
       "        2.40020813e-01, 2.60020042e-01, 2.80019271e-01, 3.00018500e-01,\n",
       "        3.20017729e-01, 3.40016958e-01, 3.60016187e-01, 3.80015416e-01,\n",
       "        4.00014645e-01, 4.20013874e-01, 4.40013103e-01, 4.60012331e-01,\n",
       "        4.80011560e-01, 5.00010789e-01, 5.20010018e-01, 5.40009247e-01,\n",
       "        5.60008476e-01, 5.80007705e-01, 6.00006934e-01, 6.20006163e-01,\n",
       "        6.40005392e-01, 6.60004621e-01, 6.80003850e-01, 7.00003079e-01,\n",
       "        7.20002308e-01, 7.40001537e-01, 7.60000765e-01, 7.79999994e-01,\n",
       "        7.99999223e-01, 8.19998452e-01, 8.39997681e-01, 8.59996910e-01,\n",
       "        8.79996139e-01, 8.99995368e-01, 9.19994597e-01, 9.39993826e-01,\n",
       "        9.59993055e-01, 9.79992284e-01, 9.99991513e-01]),\n",
       " <BarContainer object of 50 artists>)"
      ]
     },
     "execution_count": 14,
     "metadata": {},
     "output_type": "execute_result"
    },
    {
     "data": {
      "image/png": "[encoded data removed]",
      "text/plain": [
       "<Figure size 640x480 with 1 Axes>"
      ]
     },
     "metadata": {},
     "output_type": "display_data"
    }
   ],
   "source": [
    "cdf_normal = lambda x : 0.5 * (1.0 + math.erf(x / 1.4142135623730951))\n",
    "\n",
    "n = rng.normal(loc=0.0, scale=1.0, size=50000)\n",
    "x = np.array([cdf_normal(x) for x in n])\n",
    "plt.hist(x, bins=50)"
   ]
  },
  {
   "attachments": {},
   "cell_type": "markdown",
   "metadata": {},
   "source": [
    "We obtain a very nice uniform distribution of values between 0 and 1."
   ]
  },
  {
   "attachments": {},
   "cell_type": "markdown",
   "metadata": {},
   "source": [
    "Using the definition of the CDF,\n",
    "\n",
    "$$\n",
    "F_X(x) = P(X \\le x),\n",
    "$$\n",
    "\n",
    "we also arrive at the conclusion that the distribution of $F_X(X)$ is uniform. Let's assign $Z = F_X(X)$ and use the definition of the CDF on it:\n",
    "\n",
    "$$\n",
    "F_Z(x) = P(F_X(X) \\le x) = P(F^{-1}_{X}(F_X(X)) \\le F^{-1}_{X}(x)) = P(X \\le F^{-1}_X(x)) \\\\\n",
    "\\therefore F_Z(x) = F_X(F^{-1}_X(x)) = x\n",
    "$$\n",
    "\n",
    "The shape of $F_Z(x)$ is that of the uniform distribution *U* that we calculated earlier!\n"
   ]
  },
  {
   "attachments": {},
   "cell_type": "markdown",
   "metadata": {},
   "source": [
    "# Generating random numbers using inverse transform sampling"
   ]
  },
  {
   "attachments": {},
   "cell_type": "markdown",
   "metadata": {},
   "source": [
    "We can now generate random numbers in the shape of any given density function using the recipe:\n",
    "1. Given a PDF, calculate the CDF using the integral equation.\n",
    "2. Take the inverse of the CDF.\n",
    "3. Plug your uniformly distributed random numbers into the inverse CDF.\n",
    "\n",
    "For example, to generate random numbers according to the density function $f(x)=x^2$, we can apply the recipe as follows.\n",
    "\n",
    "First, we obtain the CDF.\n",
    "\n",
    "$$\n",
    "F(x) = \\int x^2dx = C \\frac{x^3}{3}\n",
    "$$\n",
    "\n",
    "Using our constraints $F(0)=0$ and $F(2)=1$, we get\n",
    "\n",
    "$$\n",
    "F(x) = \\frac{1}{8}x^3.\n",
    "$$\n",
    "\n",
    "Next, let's take the inverse of $F(x)$:\n",
    "\n",
    "$$\n",
    "F^{-1}(x) = (8x)^{\\frac{1}{3}}\n",
    "$$\n",
    "\n",
    "Finally, we can plug numbers into our inverse function."
   ]
  },
  {
   "cell_type": "code",
   "execution_count": 10,
   "metadata": {},
   "outputs": [
    {
     "data": {
      "text/plain": [
       "(array([   3.,   13.,   19.,   29.,   45.,   46.,   56.,   81.,   92.,\n",
       "         124.,  126.,  157.,  199.,  252.,  269.,  304.,  357.,  391.,\n",
       "         441.,  477.,  524.,  617.,  673.,  709.,  700.,  812.,  862.,\n",
       "         910., 1022., 1132., 1138., 1244., 1272., 1334., 1332., 1564.,\n",
       "        1588., 1689., 1748., 1844., 1940., 1992., 2137., 2286., 2342.,\n",
       "        2415., 2475., 2560., 2728., 2930.]),\n",
       " array([0.05347998, 0.09241035, 0.13134071, 0.17027108, 0.20920145,\n",
       "        0.24813181, 0.28706218, 0.32599255, 0.36492291, 0.40385328,\n",
       "        0.44278365, 0.48171402, 0.52064438, 0.55957475, 0.59850512,\n",
       "        0.63743548, 0.67636585, 0.71529622, 0.75422658, 0.79315695,\n",
       "        0.83208732, 0.87101769, 0.90994805, 0.94887842, 0.98780879,\n",
       "        1.02673915, 1.06566952, 1.10459989, 1.14353026, 1.18246062,\n",
       "        1.22139099, 1.26032136, 1.29925172, 1.33818209, 1.37711246,\n",
       "        1.41604282, 1.45497319, 1.49390356, 1.53283393, 1.57176429,\n",
       "        1.61069466, 1.64962503, 1.68855539, 1.72748576, 1.76641613,\n",
       "        1.80534649, 1.84427686, 1.88320723, 1.9221376 , 1.96106796,\n",
       "        1.99999833]),\n",
       " <BarContainer object of 50 artists>)"
      ]
     },
     "execution_count": 10,
     "metadata": {},
     "output_type": "execute_result"
    },
    {
     "data": {
      "image/png": "[encoded data removed]",
      "text/plain": [
       "<Figure size 640x480 with 1 Axes>"
      ]
     },
     "metadata": {},
     "output_type": "display_data"
    }
   ],
   "source": [
    "u = rng.uniform(0, 1, 50000)\n",
    "x = np.array([(8.0 * x) ** (1.0 / 3.0) for x in u])\n",
    "plt.hist(x, bins=50)"
   ]
  },
  {
   "attachments": {},
   "cell_type": "markdown",
   "metadata": {},
   "source": [
    "Looks like the graph of $x^2$!\n",
    "\n",
    "## Inverse transform sampling using normally distributed random numbers\n",
    "\n",
    "The fact that evaluating a uniform distribution function yields uniformly distributed values means that we can actually plug in random numbers from *any* distribution into $F^{-1}$! Given that two CDFS $F(X)$ and $G(Y)$ have the exact same uniform distribution, we can apply the inverse of $F^{-1}$ like we did before to find the mapping between $X$ and $Y$:\n",
    "\n",
    "$$\n",
    "F(X) = G(Y) \\\\\n",
    "\\therefore X = F^{-1}(G(Y))\n",
    "$$\n",
    "\n",
    "We can use this fact to generate random numbers in our earlier distribution $f(x)=x^2$ using normally distributed random numbers:"
   ]
  },
  {
   "cell_type": "code",
   "execution_count": 11,
   "metadata": {},
   "outputs": [
    {
     "data": {
      "text/plain": [
       "(array([   9.,   14.,   23.,   39.,   39.,   71.,   81.,   88.,  129.,\n",
       "         121.,  166.,  177.,  235.,  283.,  300.,  332.,  383.,  432.,\n",
       "         410.,  530.,  507.,  575.,  642.,  702.,  736.,  802.,  842.,\n",
       "         958.,  979., 1061., 1058., 1208., 1251., 1368., 1386., 1522.,\n",
       "        1531., 1687., 1807., 1777., 1942., 2074., 2113., 2269., 2314.,\n",
       "        2378., 2565., 2572., 2722., 2790.]),\n",
       " array([0.07599183, 0.11447165, 0.15295147, 0.19143129, 0.2299111 ,\n",
       "        0.26839092, 0.30687074, 0.34535055, 0.38383037, 0.42231019,\n",
       "        0.46079   , 0.49926982, 0.53774964, 0.57622945, 0.61470927,\n",
       "        0.65318909, 0.69166891, 0.73014872, 0.76862854, 0.80710836,\n",
       "        0.84558817, 0.88406799, 0.92254781, 0.96102762, 0.99950744,\n",
       "        1.03798726, 1.07646708, 1.11494689, 1.15342671, 1.19190653,\n",
       "        1.23038634, 1.26886616, 1.30734598, 1.34582579, 1.38430561,\n",
       "        1.42278543, 1.46126524, 1.49974506, 1.53822488, 1.5767047 ,\n",
       "        1.61518451, 1.65366433, 1.69214415, 1.73062396, 1.76910378,\n",
       "        1.8075836 , 1.84606341, 1.88454323, 1.92302305, 1.96150286,\n",
       "        1.99998268]),\n",
       " <BarContainer object of 50 artists>)"
      ]
     },
     "execution_count": 11,
     "metadata": {},
     "output_type": "execute_result"
    },
    {
     "data": {
      "image/png": "[encoded data removed]",
      "text/plain": [
       "<Figure size 640x480 with 1 Axes>"
      ]
     },
     "metadata": {},
     "output_type": "display_data"
    }
   ],
   "source": [
    "x = np.array([(8.0 * cdf_normal(x)) ** (1.0 / 3.0) for x in n])\n",
    "plt.hist(x, bins=50)"
   ]
  },
  {
   "attachments": {},
   "cell_type": "markdown",
   "metadata": {},
   "source": [
    "And again, looks like a graph of $x^2$! I'm not sure why you would want to generate random numbers in a given distribution in such a contrived way, but it's nice to know that it is possible."
   ]
  }
 ],
 "metadata": {
  "kernelspec": {
   "display_name": "notebooks",
   "language": "python",
   "name": "python3"
  },
  "language_info": {
   "codemirror_mode": {
    "name": "ipython",
    "version": 3
   },
   "file_extension": ".py",
   "mimetype": "text/x-python",
   "name": "python",
   "nbconvert_exporter": "python",
   "pygments_lexer": "ipython3",
   "version": "3.11.1"
  },
  "orig_nbformat": 4,
  "vscode": {
   "interpreter": {
    "hash": "62027d19e6d79e9903686d19485c16746a359d75eac12f98df3f9b97aa9dfd1d"
   }
  }
 },
 "nbformat": 4,
 "nbformat_minor": 2
}

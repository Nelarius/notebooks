{
 "cells": [
  {
   "attachments": {},
   "cell_type": "markdown",
   "metadata": {},
   "source": [
    "In [inverse transform sampling](https://en.wikipedia.org/wiki/Inverse_transform_sampling), we use the inverse cumulative distribution function (CDF) to generate random numbers in a given distribution. But why does this work?\n",
    "\n",
    "This post takes a look at a couple different approaches to understand this. Experimentally, we can see that the distribution of the CDF sample values is uniform. And this fact is why inverse transform sampling works. We can use this fact to generate random numbers in a given distribution, using random numbers in any other arbitrary distribution."
   ]
  },
  {
   "attachments": {},
   "cell_type": "markdown",
   "metadata": {},
   "source": [
    "Let's start with some of the definitions we will use. We want to generate random numbers according to a given *probability density function* (PDF) $f(x)$. The probability density function $f(x)$ and the *cumulative distribution function* $F(x)$ are related to each other by an integral:\n",
    "\n",
    "$$\n",
    "F(x) = \\int f(x) dx\n",
    "$$\n",
    "\n",
    "Let's start with a simple experimental observation of normally distributed random numbers.\n",
    "\n",
    "Let's start with a simple density function, the uniform density function *U* in the interval $[0, 1]$. The probability density is constant everywhere in the interval:\n",
    "\n",
    "$$\n",
    "F(x) = \\int cdx = cx+d\n",
    "$$\n",
    "\n",
    "We can use the following two constraints, $U(0)=0$ and $U(1)=1$, to obtain\n",
    "\n",
    "$$\n",
    "U(x) = x.\n",
    "$$"
   ]
  },
  {
   "attachments": {},
   "cell_type": "markdown",
   "metadata": {},
   "source": [
    "# Imports"
   ]
  },
  {
   "cell_type": "code",
   "execution_count": 1,
   "metadata": {},
   "outputs": [],
   "source": [
    "import matplotlib.pyplot as plt\n",
    "import numpy as np\n",
    "import math"
   ]
  },
  {
   "attachments": {},
   "cell_type": "markdown",
   "metadata": {},
   "source": [
    "# Experimental observation of CDF(X) distribution\n",
    "\n",
    "Let's observe the distribution of normally distributed random numbers, when we plug the into the CDF."
   ]
  },
  {
   "cell_type": "code",
   "execution_count": 2,
   "metadata": {},
   "outputs": [],
   "source": [
    "rng = np.random.default_rng()"
   ]
  },
  {
   "cell_type": "code",
   "execution_count": 4,
   "metadata": {},
   "outputs": [
    {
     "data": {
      "text/plain": [
       "(array([ 938., 1018.,  987.,  976., 1004.,  978., 1073., 1003., 1030.,\n",
       "        1014., 1040.,  979.,  918.,  964.,  964.,  998., 1012., 1016.,\n",
       "        1023.,  965., 1009.,  994.,  938.,  963., 1054.,  998., 1021.,\n",
       "        1009.,  955., 1012.,  984.,  994.,  962., 1010., 1030., 1043.,\n",
       "        1035.,  971., 1015.,  962.,  969., 1058., 1054.,  974.,  969.,\n",
       "         981., 1034., 1002., 1009., 1091.]),\n",
       " array([1.82893538e-05, 2.00176589e-02, 4.00170285e-02, 6.00163981e-02,\n",
       "        8.00157677e-02, 1.00015137e-01, 1.20014507e-01, 1.40013876e-01,\n",
       "        1.60013246e-01, 1.80012616e-01, 2.00011985e-01, 2.20011355e-01,\n",
       "        2.40010724e-01, 2.60010094e-01, 2.80009463e-01, 3.00008833e-01,\n",
       "        3.20008203e-01, 3.40007572e-01, 3.60006942e-01, 3.80006311e-01,\n",
       "        4.00005681e-01, 4.20005050e-01, 4.40004420e-01, 4.60003790e-01,\n",
       "        4.80003159e-01, 5.00002529e-01, 5.20001898e-01, 5.40001268e-01,\n",
       "        5.60000637e-01, 5.80000007e-01, 5.99999377e-01, 6.19998746e-01,\n",
       "        6.39998116e-01, 6.59997485e-01, 6.79996855e-01, 6.99996224e-01,\n",
       "        7.19995594e-01, 7.39994964e-01, 7.59994333e-01, 7.79993703e-01,\n",
       "        7.99993072e-01, 8.19992442e-01, 8.39991811e-01, 8.59991181e-01,\n",
       "        8.79990551e-01, 8.99989920e-01, 9.19989290e-01, 9.39988659e-01,\n",
       "        9.59988029e-01, 9.79987399e-01, 9.99986768e-01]),\n",
       " <BarContainer object of 50 artists>)"
      ]
     },
     "execution_count": 4,
     "metadata": {},
     "output_type": "execute_result"
    },
    {
     "data": {
      "image/png": "[encoded data removed]",
      "text/plain": [
       "<Figure size 640x480 with 1 Axes>"
      ]
     },
     "metadata": {},
     "output_type": "display_data"
    }
   ],
   "source": [
    "n_normal = rng.normal(loc=0.0, scale=1.0, size=50000)\n",
    "n_cdf = np.array([0.5 * (1.0 + math.erf(x / (math.sqrt(2.0)))) for x in n_normal])\n",
    "plt.hist(n_cdf, bins=50)"
   ]
  },
  {
   "attachments": {},
   "cell_type": "markdown",
   "metadata": {},
   "source": [
    "We obtain a very nice uniform distribution of values between 0 and 1."
   ]
  }
 ],
 "metadata": {
  "kernelspec": {
   "display_name": "notebooks",
   "language": "python",
   "name": "python3"
  },
  "language_info": {
   "codemirror_mode": {
    "name": "ipython",
    "version": 3
   },
   "file_extension": ".py",
   "mimetype": "text/x-python",
   "name": "python",
   "nbconvert_exporter": "python",
   "pygments_lexer": "ipython3",
   "version": "3.11.1"
  },
  "orig_nbformat": 4,
  "vscode": {
   "interpreter": {
    "hash": "62027d19e6d79e9903686d19485c16746a359d75eac12f98df3f9b97aa9dfd1d"
   }
  }
 },
 "nbformat": 4,
 "nbformat_minor": 2
}
